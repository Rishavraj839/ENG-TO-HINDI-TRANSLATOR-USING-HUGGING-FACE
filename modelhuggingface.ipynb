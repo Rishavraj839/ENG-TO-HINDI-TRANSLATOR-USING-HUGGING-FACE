{
  "nbformat": 4,
  "nbformat_minor": 0,
  "metadata": {
    "colab": {
      "name": "modelhuggingface.ipynb",
      "provenance": []
    },
    "kernelspec": {
      "name": "python3",
      "display_name": "Python 3"
    },
    "language_info": {
      "name": "python"
    }
  },
  "cells": [
    {
      "cell_type": "markdown",
      "source": [
        "ENG TO HINDI TRANSLATOR USING HUGGING FACE"
      ],
      "metadata": {
        "id": "9Ziy09k_rG0-"
      }
    },
    {
      "cell_type": "code",
      "execution_count": 2,
      "metadata": {
        "id": "BiVNi_OgieMG"
      },
      "outputs": [],
      "source": [
        "#!pip install transformers sentencepiece -q"
      ]
    },
    {
      "cell_type": "code",
      "source": [
        "from transformers import pipeline"
      ],
      "metadata": {
        "id": "5JYaB-CyZ6WW"
      },
      "execution_count": 3,
      "outputs": []
    },
    {
      "cell_type": "code",
      "source": [
        "# Creating a Text2TextGenerationPipeline for language translation\n",
        "pipe = pipeline(task='text2text-generation', model='facebook/m2m100_418M')"
      ],
      "metadata": {
        "id": "8qWhizmNaHR9"
      },
      "execution_count": 4,
      "outputs": []
    },
    {
      "cell_type": "code",
      "source": [
        "# Converting \n",
        "pipe(\"My Name is Rishav Raj\", forced_bos_token_id=pipe.tokenizer.get_lang_id(lang='hi'))"
      ],
      "metadata": {
        "colab": {
          "base_uri": "https://localhost:8080/"
        },
        "id": "z_A4hmszpsCB",
        "outputId": "b8672970-ff8c-4d85-a463-e5786b5c5917"
      },
      "execution_count": 5,
      "outputs": [
        {
          "output_type": "execute_result",
          "data": {
            "text/plain": [
              "[{'generated_text': 'मेरा नाम Rishav Raj है।'}]"
            ]
          },
          "metadata": {},
          "execution_count": 5
        }
      ]
    },
    {
      "cell_type": "code",
      "source": [
        ""
      ],
      "metadata": {
        "id": "XgTKG0KLrBSb"
      },
      "execution_count": null,
      "outputs": []
    }
  ]
}